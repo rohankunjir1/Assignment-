{
 "cells": [
  {
   "cell_type": "code",
   "execution_count": null,
   "id": "a3a38d68-cd73-435f-8834-70f95c7259b2",
   "metadata": {},
   "outputs": [],
   "source": [
    "#Q1\n",
    "\n",
    "a=\"anjali\"\n",
    "b=[\"rohan\",67,36]\n",
    "c=78.89\n",
    "d=(91,3,4)\n"
   ]
  },
  {
   "cell_type": "code",
   "execution_count": null,
   "id": "93f44208-0472-44e7-bd1f-ab2b7d6147c4",
   "metadata": {},
   "outputs": [],
   "source": [
    "# Q2\n",
    "# 1)str"
   ]
  },
  {
   "cell_type": "code",
   "execution_count": null,
   "id": "cc460f8d-744a-4f13-a016-f2f1fb7ecf90",
   "metadata": {},
   "outputs": [],
   "source": [
    "# 2)str"
   ]
  },
  {
   "cell_type": "code",
   "execution_count": null,
   "id": "7831b78c-a1a2-4034-a23e-e21cab65eb28",
   "metadata": {},
   "outputs": [],
   "source": [
    "# 3)list"
   ]
  },
  {
   "cell_type": "code",
   "execution_count": null,
   "id": "9d0c5c8f-59e9-4df4-b41a-6bb47843b3aa",
   "metadata": {},
   "outputs": [],
   "source": [
    "# 4)int"
   ]
  },
  {
   "cell_type": "code",
   "execution_count": null,
   "id": "ab55fc19-a248-4a1d-85ff-60c93fb46a97",
   "metadata": {},
   "outputs": [],
   "source": [
    "# Q3\n",
    "# 1)divide "
   ]
  },
  {
   "cell_type": "code",
   "execution_count": null,
   "id": "4124a038-196b-4c5c-89cb-2ddb2a77ab20",
   "metadata": {},
   "outputs": [],
   "source": [
    "# 2)it gives reminder"
   ]
  },
  {
   "cell_type": "code",
   "execution_count": null,
   "id": "c42e2eb2-a517-4f2e-9aa1-3bd59f3aa9da",
   "metadata": {},
   "outputs": [],
   "source": [
    "# 3)it gives quotient"
   ]
  },
  {
   "cell_type": "code",
   "execution_count": null,
   "id": "93e71f60-581d-4245-8480-feca71611c69",
   "metadata": {},
   "outputs": [],
   "source": [
    "# 4)raised to operator "
   ]
  },
  {
   "cell_type": "code",
   "execution_count": 1,
   "id": "38693558-3c88-411d-9ba4-88ff09c69308",
   "metadata": {},
   "outputs": [
    {
     "name": "stdout",
     "output_type": "stream",
     "text": [
      "1\n",
      "<class 'int'>\n",
      "2\n",
      "<class 'int'>\n",
      "3\n",
      "<class 'int'>\n",
      "4\n",
      "<class 'int'>\n",
      "5\n",
      "<class 'int'>\n",
      "6\n",
      "<class 'int'>\n",
      "7\n",
      "<class 'int'>\n",
      "8\n",
      "<class 'int'>\n",
      "9\n",
      "<class 'int'>\n",
      "ajay\n",
      "<class 'str'>\n"
     ]
    }
   ],
   "source": [
    "# Q4\n",
    "a=[1,2,3,4,5,6,7,8,9,\"ajay\"]\n",
    "for i in a:\n",
    "    print(i)\n",
    "    print(type(i))"
   ]
  },
  {
   "cell_type": "code",
   "execution_count": null,
   "id": "09e65227-edde-4b0f-a01b-a5fc643bc5d6",
   "metadata": {},
   "outputs": [],
   "source": [
    "# Q5\n",
    "n = 1\n",
    "m = 41\n",
    "\n",
    "div = [5,7]\n",
    "\n",
    "while(n<=m): \n",
    "    if n == 13:\n",
    "        continue\n",
    "    if n%div[0]==0 and n%div[1]==0:\n",
    "        print(n, 'the number is divisible for both 5 and 7')    \n",
    "    elif n%div[0]==0:\n",
    "        print(n, 'the number is divisible for 5')    \n",
    "    elif n%div[1]==0:\n",
    "        print(n, 'the number is divisible for 7')\n",
    "    else:\n",
    "        print(n, 'is divisible for neither 5 or 7')"
   ]
  },
  {
   "cell_type": "code",
   "execution_count": 7,
   "id": "f851ae1c-b345-47a9-9e52-d9cdafeb9ed6",
   "metadata": {},
   "outputs": [
    {
     "name": "stdout",
     "output_type": "stream",
     "text": [
      "not divisible by 3 1\n",
      "not divisible by 3 2\n",
      "divisible by 3 3\n",
      "not divisible by 3 4\n",
      "not divisible by 3 5\n",
      "divisible by 3 6\n",
      "not divisible by 3 7\n",
      "not divisible by 3 8\n",
      "divisible by 3 9\n",
      "not divisible by 3 2\n",
      "divisible by 3 3\n",
      "not divisible by 3 5\n",
      "divisible by 3 6\n",
      "not divisible by 3 8\n",
      "divisible by 3 9\n",
      "divisible by 3 6\n",
      "not divisible by 3 5\n",
      "not divisible by 3 4\n",
      "divisible by 3 3\n",
      "divisible by 3 3\n",
      "not divisible by 3 5\n",
      "divisible by 3 6\n",
      "not divisible by 3 7\n",
      "not divisible by 3 8\n",
      "divisible by 3 9\n"
     ]
    }
   ],
   "source": [
    "li=[1,2,3,4,5,6,7,8,9,2,3,5,6,8,9,6,5,4,3,3,5,6,7,8,9]\n",
    "for i in li:\n",
    "    if(i%3==0):\n",
    "\n",
    "        print(\"divisible by 3\",i)\n",
    "    else:\n",
    "        print(\"not divisible by 3\",i)\n",
    "        "
   ]
  },
  {
   "cell_type": "code",
   "execution_count": null,
   "id": "023ef5fa-1b71-42c1-ae69-7bf6bdee6b8d",
   "metadata": {},
   "outputs": [],
   "source": [
    "# mutable means we can change the value of variable\n",
    "# immutable means we cannot change value of variable\n",
    "# string is immutable\n",
    "# list is mutable"
   ]
  },
  {
   "cell_type": "code",
   "execution_count": null,
   "id": "25c27999-aab9-4615-be89-d13ec067fa86",
   "metadata": {},
   "outputs": [],
   "source": []
  }
 ],
 "metadata": {
  "kernelspec": {
   "display_name": "Python 3 (ipykernel)",
   "language": "python",
   "name": "python3"
  },
  "language_info": {
   "codemirror_mode": {
    "name": "ipython",
    "version": 3
   },
   "file_extension": ".py",
   "mimetype": "text/x-python",
   "name": "python",
   "nbconvert_exporter": "python",
   "pygments_lexer": "ipython3",
   "version": "3.11.4"
  }
 },
 "nbformat": 4,
 "nbformat_minor": 5
}
